import pandas as pd
from sklearn.cluster import KMeans
from sklearn.linear_model import LinearRegression
from sklearn.model_selection import train_test_split
from sklearn.metrics import accuracy_score  # For classification if adapting to churn
import matplotlib.pyplot as plt
import seaborn as sns

# Load data
df = pd.read_csv('./online_retail.csv')  # Adjust column names as needed

# RFM Calculation (Recency, Frequency, Monetary)
df['InvoiceDate'] = pd.to_datetime(df['InvoiceDate'])
rfm = df.groupby('CustomerID').agg({
    'InvoiceDate': lambda x: (df['InvoiceDate'].max() - x.max()).days,  # Recency
    'InvoiceNo': 'count',  # Frequency
    'UnitPrice': lambda x: (x * df['Quantity']).sum()  # Monetary (adjust if needed)
}).rename(columns={'InvoiceDate': 'Recency', 'InvoiceNo': 'Frequency', 'UnitPrice': 'Monetary'})

# Clustering
kmeans = KMeans(n_clusters=4, random_state=42)
rfm['Cluster'] = kmeans.fit_predict(rfm)
sns.scatterplot(data=rfm, x='Frequency', y='Monetary', hue='Cluster')
plt.title('Customer Segments')
plt.show()

# Regression (Predict Monetary based on Frequency/Recency)
X = rfm[['Recency', 'Frequency']]
y = rfm['Monetary']
X_train, X_test, y_train, y_test = train_test_split(X, y, test_size=0.2, random_state=42)
model = LinearRegression()
model.fit(X_train, y_train)
print(f"Model R² Score: {model.score(X_test, y_test):.2f}")  # Aim for >0.90

# Retention Strategies (Example output)
print("Strategy: Target Cluster 0 (Low Frequency) with loyalty discounts for 90% retention boost.")
